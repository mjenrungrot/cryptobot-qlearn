{
 "cells": [
  {
   "cell_type": "code",
   "execution_count": 1,
   "metadata": {
    "ExecuteTime": {
     "end_time": "2018-04-06T21:37:09.354254Z",
     "start_time": "2018-04-06T21:37:07.278042Z"
    },
    "scrolled": true
   },
   "outputs": [
    {
     "name": "stderr",
     "output_type": "stream",
     "text": [
      "/Users/yshengong/Documents/Courses/ECON136/lib/python3.6/site-packages/h5py/__init__.py:36: FutureWarning: Conversion of the second argument of issubdtype from `float` to `np.floating` is deprecated. In future, it will be treated as `np.float64 == np.dtype(float).type`.\n",
      "  from ._conv import register_converters as _register_converters\n",
      "Using TensorFlow backend.\n"
     ]
    }
   ],
   "source": [
    "import keras\n",
    "from keras.models import Sequential\n",
    "from keras.models import load_model\n",
    "from keras.layers import Dense\n",
    "from keras.optimizers import Adam\n",
    "\n",
    "import math\n",
    "import numpy as np\n",
    "import pandas as pd\n",
    "import random\n",
    "from collections import deque\n",
    "import matplotlib.pyplot as plt\n",
    "from datetime import datetime"
   ]
  },
  {
   "cell_type": "markdown",
   "metadata": {},
   "source": [
    "## Network Architecture"
   ]
  },
  {
   "cell_type": "code",
   "execution_count": 2,
   "metadata": {
    "ExecuteTime": {
     "end_time": "2018-04-06T21:37:09.478158Z",
     "start_time": "2018-04-06T21:37:09.357146Z"
    }
   },
   "outputs": [],
   "source": [
    "class Agent:\n",
    "    def __init__(self, state_size, is_eval=False, model_name=\"\"):\n",
    "        self.state_size = state_size\n",
    "        self.action_size = 3           # stay, buy, sell\n",
    "        self.memory = deque(maxlen=1000)\n",
    "        self.inventory = []\n",
    "        self.model_name = model_name\n",
    "        self.is_eval = is_eval\n",
    "        \n",
    "        self.gamma = 0.95\n",
    "        self.epsilon = 1.0\n",
    "        self.epsilon_min = 0.01\n",
    "        self.epsilon_decay = 0.995\n",
    "        \n",
    "        self.model = load_model(\"models/\" + model_name) if is_eval else self._model()\n",
    "    \n",
    "    def _model(self):\n",
    "        model = Sequential()\n",
    "        model.add(Dense(units=64, input_dim=self.state_size, activation='relu'))\n",
    "        model.add(Dense(units=32, activation='relu'))\n",
    "        model.add(Dense(units=8 , activation='relu'))\n",
    "        model.add(Dense(self.action_size, activation='linear'))\n",
    "        model.compile(loss='mse', optimizer=Adam(lr=0.001))\n",
    "        \n",
    "        return model\n",
    "\n",
    "    def act(self, state):\n",
    "        if not self.is_eval and np.random.rand() <= self.epsilon:\n",
    "            # randomize an integer in [0, self.action_size)\n",
    "            return random.randrange(self.action_size)\n",
    "        options = self.model.predict(state)\n",
    "        return np.argmax(options[0])\n",
    "    \n",
    "    def expReplay(self, batch_size):\n",
    "        mini_batch = []\n",
    "        l = len(self.memory)\n",
    "        for i in range(l - batch_size + 1, l):\n",
    "            mini_batch.append(self.memory[i])\n",
    "        for state, action, reward, next_state, done in mini_batch:\n",
    "            target = reward\n",
    "            if not done:\n",
    "                target = reward + self.gamma * np.amax(self.model.predict(next_state)[0])\n",
    "            target_f = self.model.predict(state)\n",
    "            target_f[0][action] = target\n",
    "            self.model.fit(state, target_f, epochs=1, verbose=False)\n",
    "        \n",
    "        if self.epsilon > self.epsilon_min:\n",
    "            self.epsilon *= self.epsilon_decay"
   ]
  },
  {
   "cell_type": "code",
   "execution_count": 3,
   "metadata": {
    "ExecuteTime": {
     "end_time": "2018-04-06T21:37:09.485030Z",
     "start_time": "2018-04-06T21:37:09.481219Z"
    }
   },
   "outputs": [],
   "source": [
    "def getStockDataVec(key):\n",
    "    df = pd.read_csv(key + \".csv\")\n",
    "    return df['price_close'].values"
   ]
  },
  {
   "cell_type": "code",
   "execution_count": 4,
   "metadata": {},
   "outputs": [],
   "source": [
    "def getStockDateVec(key):\n",
    "    df = pd.read_csv(key + \".csv\")\n",
    "    return df['time_period_start'].values"
   ]
  },
  {
   "cell_type": "code",
   "execution_count": 5,
   "metadata": {
    "ExecuteTime": {
     "end_time": "2018-04-06T21:37:09.500355Z",
     "start_time": "2018-04-06T21:37:09.487466Z"
    }
   },
   "outputs": [],
   "source": [
    "def sigmoid(x):\n",
    "    \"\"\"\n",
    "    Return the sigmoid function of x\n",
    "    \"\"\"\n",
    "    return 1.0 / (1.0 + math.exp(-x))\n",
    "    \n",
    "def getState(data, t, n):\n",
    "    \"\"\"\n",
    "    Return an n-day state representation ending at time t\n",
    "    \"\"\"\n",
    "    d = t - n + 1\n",
    "    block = data[d: t+1] if d >= 0 else np.append(-d * [data[0]], data[0: t + 1]) # pad with t0\n",
    "    res = []\n",
    "    for i in range(n - 1):\n",
    "        res.append(sigmoid(block[i+1] - block[i]))\n",
    "    return np.array([res])"
   ]
  },
  {
   "cell_type": "markdown",
   "metadata": {},
   "source": [
    "## Training"
   ]
  },
  {
   "cell_type": "code",
   "execution_count": null,
   "metadata": {
    "ExecuteTime": {
     "end_time": "2018-04-06T21:37:09.505753Z",
     "start_time": "2018-04-06T21:37:09.502430Z"
    }
   },
   "outputs": [],
   "source": [
    "STOCK_NAME = \"^GSPC\"\n",
    "window_size = 10\n",
    "episode_count = 0"
   ]
  },
  {
   "cell_type": "code",
   "execution_count": null,
   "metadata": {
    "ExecuteTime": {
     "end_time": "2018-04-06T21:37:09.606773Z",
     "start_time": "2018-04-06T21:37:09.508769Z"
    }
   },
   "outputs": [],
   "source": [
    "agent = Agent(window_size)\n",
    "data = getStockDataVec(STOCK_NAME)\n",
    "l = len(data) - 1\n",
    "batch_size = 32"
   ]
  },
  {
   "cell_type": "code",
   "execution_count": null,
   "metadata": {
    "ExecuteTime": {
     "end_time": "2018-04-06T21:46:41.573527Z",
     "start_time": "2018-04-06T21:37:09.610295Z"
    }
   },
   "outputs": [],
   "source": [
    "for e in range(episode_count + 1):\n",
    "    print(\"Episode {:}/{:}\".format(e, episode_count))\n",
    "    state = getState(data, 0, window_size+1)\n",
    "    total_profit = 0\n",
    "    agent.inventory = []\n",
    "    \n",
    "    for t in range(l):\n",
    "        action = agent.act(state)\n",
    "        \n",
    "        # Sit\n",
    "        next_state = getState(data, t+1, window_size+1)\n",
    "        reward = 0\n",
    "\n",
    "        # Buy action\n",
    "        if action == 1:\n",
    "            agent.inventory.append(data[t])\n",
    "            print(\"Buy: {:}\".format(data[t]))\n",
    "\n",
    "        # Sell action\n",
    "        elif action == 2 and len(agent.inventory) > 0:\n",
    "            bought_price = agent.inventory.pop(0)\n",
    "            reward = max(data[t] - bought_price, 0)\n",
    "            total_profit += data[t] - bought_price\n",
    "            print(\"Sell: {:} | Profit: {:}\".format(data[t], data[t] - bought_price))\n",
    "\n",
    "        done = True if t == l-1 else False\n",
    "        agent.memory.append((state, action, reward, next_state, done))\n",
    "        state = next_state\n",
    "\n",
    "        if done:\n",
    "            print(\"------------------------------------\")\n",
    "            print(\"Total Profit: {:}\".format(total_profit))\n",
    "            print(\"------------------------------------\")\n",
    "    \n",
    "        if len(agent.memory) > batch_size:\n",
    "            agent.expReplay(batch_size)\n",
    "    \n",
    "    if e % 10 == 0:\n",
    "        agent.model.save(\"models/model_ep\" + str(e))"
   ]
  },
  {
   "cell_type": "markdown",
   "metadata": {},
   "source": [
    "## Evaluation"
   ]
  },
  {
   "cell_type": "code",
   "execution_count": 6,
   "metadata": {
    "ExecuteTime": {
     "end_time": "2018-04-06T21:46:46.509787Z",
     "start_time": "2018-04-06T21:46:46.506866Z"
    }
   },
   "outputs": [],
   "source": [
    "STOCK_NAME = \"BITSTAMP_SPOT_BTC_USD-2018-04-25\"\n",
    "model_name = 'model_ep0'"
   ]
  },
  {
   "cell_type": "code",
   "execution_count": 7,
   "metadata": {
    "ExecuteTime": {
     "end_time": "2018-04-06T21:46:47.586605Z",
     "start_time": "2018-04-06T21:46:46.983161Z"
    }
   },
   "outputs": [],
   "source": [
    "model = load_model(\"models/\" + model_name)\n",
    "window_size = model.layers[0].input.shape.as_list()[1]"
   ]
  },
  {
   "cell_type": "code",
   "execution_count": 8,
   "metadata": {
    "ExecuteTime": {
     "end_time": "2018-04-06T21:46:47.619793Z",
     "start_time": "2018-04-06T21:46:47.379Z"
    }
   },
   "outputs": [],
   "source": [
    "agent = Agent(window_size, True, model_name)\n",
    "data = getStockDataVec(STOCK_NAME)\n",
    "dates_temp = getStockDateVec(STOCK_NAME)\n",
    "dates = []\n",
    "l = len(data) - 1\n",
    "batch_size = 32"
   ]
  },
  {
   "cell_type": "code",
   "execution_count": 9,
   "metadata": {
    "ExecuteTime": {
     "end_time": "2018-04-06T21:46:48.211915Z",
     "start_time": "2018-04-06T21:46:48.207854Z"
    }
   },
   "outputs": [],
   "source": [
    "state = getState(data, 0, window_size + 1)\n",
    "total_profit = 0\n",
    "agent.inventory = []\n",
    "\n",
    "for date in dates_temp:\n",
    "    dates.append(datetime.strptime(date[:10], '%Y-%m-%d'))"
   ]
  },
  {
   "cell_type": "code",
   "execution_count": 10,
   "metadata": {
    "ExecuteTime": {
     "end_time": "2018-04-06T21:46:50.813381Z",
     "start_time": "2018-04-06T21:46:49.287500Z"
    }
   },
   "outputs": [
    {
     "name": "stdout",
     "output_type": "stream",
     "text": [
      "Buy: 3987.52\n",
      "Sell: 4085.0 | Profit: 97.48000000000002\n",
      "Buy: 3865.34\n",
      "Buy: 3227.79\n",
      "Buy: 3700.01\n",
      "Buy: 3678.93\n",
      "Buy: 3662.99\n",
      "Buy: 4101.6\n",
      "Buy: 3888.8\n",
      "Buy: 3874.46\n",
      "Buy: 3617.05\n",
      "Buy: 3612.18\n",
      "Sell: 3779.17 | Profit: -86.17000000000007\n",
      "Buy: 3664.22\n",
      "Sell: 3918.0 | Profit: 690.21\n",
      "Buy: 3888.03\n",
      "Sell: 4199.29 | Profit: 499.27999999999975\n",
      "Sell: 4184.84 | Profit: 505.9100000000003\n",
      "Sell: 4164.82 | Profit: 501.8299999999999\n",
      "Sell: 4326.09 | Profit: 224.48999999999978\n",
      "Sell: 4377.22 | Profit: 488.4200000000001\n",
      "Sell: 4391.48 | Profit: 517.0199999999995\n",
      "Sell: 4315.83 | Profit: 698.7799999999997\n",
      "Sell: 4219.53 | Profit: 607.3499999999999\n",
      "Sell: 4301.09 | Profit: 636.8700000000003\n",
      "Sell: 4362.95 | Profit: 474.9199999999996\n"
     ]
    },
    {
     "ename": "OverflowError",
     "evalue": "math range error",
     "output_type": "error",
     "traceback": [
      "\u001b[0;31m---------------------------------------------------------------------------\u001b[0m",
      "\u001b[0;31mOverflowError\u001b[0m                             Traceback (most recent call last)",
      "\u001b[0;32m<ipython-input-10-9501b77cd716>\u001b[0m in \u001b[0;36m<module>\u001b[0;34m()\u001b[0m\n\u001b[1;32m      6\u001b[0m     \u001b[0maction\u001b[0m \u001b[0;34m=\u001b[0m \u001b[0magent\u001b[0m\u001b[0;34m.\u001b[0m\u001b[0mact\u001b[0m\u001b[0;34m(\u001b[0m\u001b[0mstate\u001b[0m\u001b[0;34m)\u001b[0m\u001b[0;34m\u001b[0m\u001b[0m\n\u001b[1;32m      7\u001b[0m     \u001b[0;31m# Sit\u001b[0m\u001b[0;34m\u001b[0m\u001b[0;34m\u001b[0m\u001b[0m\n\u001b[0;32m----> 8\u001b[0;31m     \u001b[0mnext_state\u001b[0m \u001b[0;34m=\u001b[0m \u001b[0mgetState\u001b[0m\u001b[0;34m(\u001b[0m\u001b[0mdata\u001b[0m\u001b[0;34m,\u001b[0m \u001b[0mt\u001b[0m\u001b[0;34m+\u001b[0m\u001b[0;36m1\u001b[0m\u001b[0;34m,\u001b[0m \u001b[0mwindow_size\u001b[0m\u001b[0;34m+\u001b[0m\u001b[0;36m1\u001b[0m\u001b[0;34m)\u001b[0m\u001b[0;34m\u001b[0m\u001b[0m\n\u001b[0m\u001b[1;32m      9\u001b[0m     \u001b[0mreward\u001b[0m \u001b[0;34m=\u001b[0m \u001b[0;36m0\u001b[0m\u001b[0;34m\u001b[0m\u001b[0m\n\u001b[1;32m     10\u001b[0m \u001b[0;34m\u001b[0m\u001b[0m\n",
      "\u001b[0;32m<ipython-input-5-2d4f4acece54>\u001b[0m in \u001b[0;36mgetState\u001b[0;34m(data, t, n)\u001b[0m\n\u001b[1;32m     13\u001b[0m     \u001b[0mres\u001b[0m \u001b[0;34m=\u001b[0m \u001b[0;34m[\u001b[0m\u001b[0;34m]\u001b[0m\u001b[0;34m\u001b[0m\u001b[0m\n\u001b[1;32m     14\u001b[0m     \u001b[0;32mfor\u001b[0m \u001b[0mi\u001b[0m \u001b[0;32min\u001b[0m \u001b[0mrange\u001b[0m\u001b[0;34m(\u001b[0m\u001b[0mn\u001b[0m \u001b[0;34m-\u001b[0m \u001b[0;36m1\u001b[0m\u001b[0;34m)\u001b[0m\u001b[0;34m:\u001b[0m\u001b[0;34m\u001b[0m\u001b[0m\n\u001b[0;32m---> 15\u001b[0;31m         \u001b[0mres\u001b[0m\u001b[0;34m.\u001b[0m\u001b[0mappend\u001b[0m\u001b[0;34m(\u001b[0m\u001b[0msigmoid\u001b[0m\u001b[0;34m(\u001b[0m\u001b[0mblock\u001b[0m\u001b[0;34m[\u001b[0m\u001b[0mi\u001b[0m\u001b[0;34m+\u001b[0m\u001b[0;36m1\u001b[0m\u001b[0;34m]\u001b[0m \u001b[0;34m-\u001b[0m \u001b[0mblock\u001b[0m\u001b[0;34m[\u001b[0m\u001b[0mi\u001b[0m\u001b[0;34m]\u001b[0m\u001b[0;34m)\u001b[0m\u001b[0;34m)\u001b[0m\u001b[0;34m\u001b[0m\u001b[0m\n\u001b[0m\u001b[1;32m     16\u001b[0m     \u001b[0;32mreturn\u001b[0m \u001b[0mnp\u001b[0m\u001b[0;34m.\u001b[0m\u001b[0marray\u001b[0m\u001b[0;34m(\u001b[0m\u001b[0;34m[\u001b[0m\u001b[0mres\u001b[0m\u001b[0;34m]\u001b[0m\u001b[0;34m)\u001b[0m\u001b[0;34m\u001b[0m\u001b[0m\n",
      "\u001b[0;32m<ipython-input-5-2d4f4acece54>\u001b[0m in \u001b[0;36msigmoid\u001b[0;34m(x)\u001b[0m\n\u001b[1;32m      3\u001b[0m     \u001b[0mReturn\u001b[0m \u001b[0mthe\u001b[0m \u001b[0msigmoid\u001b[0m \u001b[0mfunction\u001b[0m \u001b[0mof\u001b[0m \u001b[0mx\u001b[0m\u001b[0;34m\u001b[0m\u001b[0m\n\u001b[1;32m      4\u001b[0m     \"\"\"\n\u001b[0;32m----> 5\u001b[0;31m     \u001b[0;32mreturn\u001b[0m \u001b[0;36m1.0\u001b[0m \u001b[0;34m/\u001b[0m \u001b[0;34m(\u001b[0m\u001b[0;36m1.0\u001b[0m \u001b[0;34m+\u001b[0m \u001b[0mmath\u001b[0m\u001b[0;34m.\u001b[0m\u001b[0mexp\u001b[0m\u001b[0;34m(\u001b[0m\u001b[0;34m-\u001b[0m\u001b[0mx\u001b[0m\u001b[0;34m)\u001b[0m\u001b[0;34m)\u001b[0m\u001b[0;34m\u001b[0m\u001b[0m\n\u001b[0m\u001b[1;32m      6\u001b[0m \u001b[0;34m\u001b[0m\u001b[0m\n\u001b[1;32m      7\u001b[0m \u001b[0;32mdef\u001b[0m \u001b[0mgetState\u001b[0m\u001b[0;34m(\u001b[0m\u001b[0mdata\u001b[0m\u001b[0;34m,\u001b[0m \u001b[0mt\u001b[0m\u001b[0;34m,\u001b[0m \u001b[0mn\u001b[0m\u001b[0;34m)\u001b[0m\u001b[0;34m:\u001b[0m\u001b[0;34m\u001b[0m\u001b[0m\n",
      "\u001b[0;31mOverflowError\u001b[0m: math range error"
     ]
    }
   ],
   "source": [
    "buy_dates = []\n",
    "sell_dates = []\n",
    "buy_prices = []\n",
    "sell_prices = []\n",
    "for t in range(l):\n",
    "    action = agent.act(state)\n",
    "    # Sit \n",
    "    next_state = getState(data, t+1, window_size+1)\n",
    "    reward = 0\n",
    "    \n",
    "    # Buy action\n",
    "    if action == 1:\n",
    "        agent.inventory.append(data[t])\n",
    "        print(\"Buy: {:}\".format(data[t]))\n",
    "        buy_dates.append(dates[t])\n",
    "        buy_prices.append(data[t])\n",
    "\n",
    "    # Sell action\n",
    "    elif action == 2 and len(agent.inventory) > 0:\n",
    "        sell_dates.append(dates[t])\n",
    "        sell_prices.append(data[t])\n",
    "        bought_price = agent.inventory.pop(0)\n",
    "        reward = max(data[t] - bought_price, 0)\n",
    "        total_profit += data[t] - bought_price\n",
    "        print(\"Sell: {:} | Profit: {:}\".format(data[t], data[t] - bought_price))\n",
    "\n",
    "    done = True if t == l-1 else False\n",
    "    agent.memory.append((state, action, reward, next_state, done))\n",
    "    state = next_state\n",
    "\n",
    "    if done:\n",
    "        print(\"------------------------------------\")\n",
    "        print(\"Total Profit: {:}\".format(total_profit))\n",
    "        print(\"------------------------------------\")"
   ]
  },
  {
   "cell_type": "code",
   "execution_count": null,
   "metadata": {},
   "outputs": [],
   "source": [
    "plt.xticks(rotation=70)\n",
    "plt.plot(dates, data, label='prices')\n",
    "plt.plot(buy_dates, buy_prices, '^', markersize=5, color='g', label='buy')\n",
    "plt.plot(sell_dates, sell_prices, 'v', markersize=5, color='r', label='sell')\n",
    "plt.legend(loc='upper left')\n",
    "plt.savefig('BITSTAMP_SPOT_BTC_USD-2017-01-01_results')"
   ]
  },
  {
   "cell_type": "code",
   "execution_count": null,
   "metadata": {},
   "outputs": [],
   "source": [
    "buy_dates"
   ]
  },
  {
   "cell_type": "code",
   "execution_count": null,
   "metadata": {},
   "outputs": [],
   "source": []
  }
 ],
 "metadata": {
  "anaconda-cloud": {},
  "gist": {
   "data": {
    "description": "cryptobot-qlearn/cryptobot-qlearn-entirePipeline.ipynb",
    "public": false
   },
   "id": ""
  },
  "kernelspec": {
   "display_name": "Python 3",
   "language": "python",
   "name": "python3"
  },
  "language_info": {
   "codemirror_mode": {
    "name": "ipython",
    "version": 3
   },
   "file_extension": ".py",
   "mimetype": "text/x-python",
   "name": "python",
   "nbconvert_exporter": "python",
   "pygments_lexer": "ipython3",
   "version": "3.6.4"
  },
  "latex_envs": {
   "LaTeX_envs_menu_present": true,
   "autoclose": false,
   "autocomplete": true,
   "bibliofile": "biblio.bib",
   "cite_by": "apalike",
   "current_citInitial": 1,
   "eqLabelWithNumbers": true,
   "eqNumInitial": 1,
   "hotkeys": {
    "equation": "Ctrl-E",
    "itemize": "Ctrl-I"
   },
   "labels_anchors": false,
   "latex_user_defs": false,
   "report_style_numbering": false,
   "user_envs_cfg": false
  },
  "toc": {
   "base_numbering": 1,
   "nav_menu": {},
   "number_sections": true,
   "sideBar": true,
   "skip_h1_title": false,
   "title_cell": "Table of Contents",
   "title_sidebar": "Contents",
   "toc_cell": false,
   "toc_position": {},
   "toc_section_display": true,
   "toc_window_display": false
  },
  "varInspector": {
   "cols": {
    "lenName": 16,
    "lenType": 16,
    "lenVar": 40
   },
   "kernels_config": {
    "python": {
     "delete_cmd_postfix": "",
     "delete_cmd_prefix": "del ",
     "library": "var_list.py",
     "varRefreshCmd": "print(var_dic_list())"
    },
    "r": {
     "delete_cmd_postfix": ") ",
     "delete_cmd_prefix": "rm(",
     "library": "var_list.r",
     "varRefreshCmd": "cat(var_dic_list()) "
    }
   },
   "types_to_exclude": [
    "module",
    "function",
    "builtin_function_or_method",
    "instance",
    "_Feature"
   ],
   "window_display": false
  }
 },
 "nbformat": 4,
 "nbformat_minor": 2
}
